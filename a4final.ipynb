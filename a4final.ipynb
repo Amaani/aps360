{
 "cells": [
  {
   "cell_type": "markdown",
   "metadata": {},
   "source": [
    "# Assignment 4\n",
    "\n",
    "**Deadline**: February 17, 9pm\n",
    "\n",
    "**Late Penalty**: See Syllabus\n",
    "\n",
    "**TA**: Hojjat Salehinejad\n",
    "\n",
    "In this assignment, you will build and train an autoencoder for imputation of missing data. In the process, you will:\n",
    "\n",
    "1. Clean and process continuous and categorical data for machine learning.\n",
    "2. Understand and implement denoising autoencoders.\n",
    "3. Tuning the hyperparameter setting of an autoencoder.\n",
    "\n",
    "### What to submit\n",
    "\n",
    "Submit a PDF file containing all your code and outputs. Do not submit any other files produced by your code.\n",
    "\n",
    "Completing this assignment using Jupyter Notebook is recommended (though not necessarily for all subsequent assignments). If you are using Jupyter Notebook, you can export a PDF file using the menu option File -> Download As -> PDF via LaTeX (pdf)"
   ]
  },
  {
   "cell_type": "code",
   "execution_count": 1,
   "metadata": {},
   "outputs": [],
   "source": [
    "import csv\n",
    "import numpy as np\n",
    "import random\n",
    "import torch\n",
    "import torch.utils.data"
   ]
  },
  {
   "cell_type": "markdown",
   "metadata": {},
   "source": [
    "## Part 0\n",
    "\n",
    "We will be using a package called `pandas` for this assignment. \n",
    "Installation instructions for `pandas` is available here: \n",
    "https://pandas.pydata.org/pandas-docs/stable/install.html\n",
    "\n",
    "If you cannot get `pandas` installed, you may port the `pandas` code\n",
    "we provided into `numpy` code."
   ]
  },
  {
   "cell_type": "code",
   "execution_count": 2,
   "metadata": {},
   "outputs": [],
   "source": [
    "import pandas as pd"
   ]
  },
  {
   "cell_type": "markdown",
   "metadata": {},
   "source": [
    "# Part 1. Data Cleaning [12 pt]\n",
    "\n",
    "The data set we will be using for this assignment is the \n",
    "Adult Data Set provided by UCI Machine Learning Repository [1] available \n",
    "at https://archive.ics.uci.edu/ml/datasets/adult.\n",
    "\n",
    "Download the file `adult.data` from the website.\n",
    "\n",
    "The data set contains census record files of adults, including their\n",
    "age, type of work they do, martial status, etc. We will build a denoising\n",
    "autoencoder on this dataset to impute (or \"fill in\") missing values\n",
    "in the dataset.\n",
    "\n",
    "[1] Dua, D. and Karra Taniskidou, E. (2017). UCI Machine Learning Repository [http://archive.ics.uci.edu/ml]. Irvine, CA: University of California, School of Information and Computer Science."
   ]
  },
  {
   "cell_type": "markdown",
   "metadata": {},
   "source": [
    "### Part (a) Loading the Data [1 pt]\n",
    "\n",
    "Use the function `pd.read_csv` to load the `adult.data` into a pandas\n",
    "dataframe called `df`. Make sure that\n",
    "the `adult.data` file is in the same folder as your notebook or python code.\n",
    "Report the number of rows (records) in your data frame.\n",
    "\n",
    "Note that the data file does **not** have an index column. The headers\n",
    "of the file are given to you below. \n",
    "\n",
    "Hint: You will need to read a bit about the pandas documentation \n",
    "to do this problem https://pandas.pydata.org/pandas-docs/stable/reference/api/pandas.read_csv.html"
   ]
  },
  {
   "cell_type": "code",
   "execution_count": 3,
   "metadata": {},
   "outputs": [
    {
     "name": "stdout",
     "output_type": "stream",
     "text": [
      "there are 32561 rows in the data frame\n"
     ]
    }
   ],
   "source": [
    "header = ['age', 'work', 'fnlwgt', 'edu', 'yredu', 'marriage', 'occupation',\n",
    " 'relationship', 'race', 'sex', 'capgain', 'caploss', 'workhr', 'country']\n",
    "\n",
    "df = pd.read_csv('adult.data', names = header,index_col = False)\n",
    "rows = df.shape[0]\n",
    "print('there are '+str(rows)+' rows in the data frame')"
   ]
  },
  {
   "cell_type": "markdown",
   "metadata": {},
   "source": [
    "### Part (b) Continuous Features [1 pt]\n",
    "\n",
    "For each of the columns [\"age\", \"yredu\", \"capgain\", \"caploss\", \"workhr\"], find the minimum, maximum, and average value across the dataset.\n",
    "\n",
    "Like numpy arrays and torch tensors, \n",
    "pandas data frames can be sliced. For example, we can\n",
    "display the first 5 rows of the data frame (5 records) below:"
   ]
  },
  {
   "cell_type": "code",
   "execution_count": 4,
   "metadata": {
    "scrolled": false
   },
   "outputs": [
    {
     "data": {
      "text/html": [
       "<div>\n",
       "<style scoped>\n",
       "    .dataframe tbody tr th:only-of-type {\n",
       "        vertical-align: middle;\n",
       "    }\n",
       "\n",
       "    .dataframe tbody tr th {\n",
       "        vertical-align: top;\n",
       "    }\n",
       "\n",
       "    .dataframe thead th {\n",
       "        text-align: right;\n",
       "    }\n",
       "</style>\n",
       "<table border=\"1\" class=\"dataframe\">\n",
       "  <thead>\n",
       "    <tr style=\"text-align: right;\">\n",
       "      <th></th>\n",
       "      <th>age</th>\n",
       "      <th>work</th>\n",
       "      <th>fnlwgt</th>\n",
       "      <th>edu</th>\n",
       "      <th>yredu</th>\n",
       "      <th>marriage</th>\n",
       "      <th>occupation</th>\n",
       "      <th>relationship</th>\n",
       "      <th>race</th>\n",
       "      <th>sex</th>\n",
       "      <th>capgain</th>\n",
       "      <th>caploss</th>\n",
       "      <th>workhr</th>\n",
       "      <th>country</th>\n",
       "    </tr>\n",
       "  </thead>\n",
       "  <tbody>\n",
       "    <tr>\n",
       "      <th>0</th>\n",
       "      <td>39</td>\n",
       "      <td>State-gov</td>\n",
       "      <td>77516</td>\n",
       "      <td>Bachelors</td>\n",
       "      <td>13</td>\n",
       "      <td>Never-married</td>\n",
       "      <td>Adm-clerical</td>\n",
       "      <td>Not-in-family</td>\n",
       "      <td>White</td>\n",
       "      <td>Male</td>\n",
       "      <td>2174</td>\n",
       "      <td>0</td>\n",
       "      <td>40</td>\n",
       "      <td>United-States</td>\n",
       "    </tr>\n",
       "    <tr>\n",
       "      <th>1</th>\n",
       "      <td>50</td>\n",
       "      <td>Self-emp-not-inc</td>\n",
       "      <td>83311</td>\n",
       "      <td>Bachelors</td>\n",
       "      <td>13</td>\n",
       "      <td>Married-civ-spouse</td>\n",
       "      <td>Exec-managerial</td>\n",
       "      <td>Husband</td>\n",
       "      <td>White</td>\n",
       "      <td>Male</td>\n",
       "      <td>0</td>\n",
       "      <td>0</td>\n",
       "      <td>13</td>\n",
       "      <td>United-States</td>\n",
       "    </tr>\n",
       "    <tr>\n",
       "      <th>2</th>\n",
       "      <td>38</td>\n",
       "      <td>Private</td>\n",
       "      <td>215646</td>\n",
       "      <td>HS-grad</td>\n",
       "      <td>9</td>\n",
       "      <td>Divorced</td>\n",
       "      <td>Handlers-cleaners</td>\n",
       "      <td>Not-in-family</td>\n",
       "      <td>White</td>\n",
       "      <td>Male</td>\n",
       "      <td>0</td>\n",
       "      <td>0</td>\n",
       "      <td>40</td>\n",
       "      <td>United-States</td>\n",
       "    </tr>\n",
       "    <tr>\n",
       "      <th>3</th>\n",
       "      <td>53</td>\n",
       "      <td>Private</td>\n",
       "      <td>234721</td>\n",
       "      <td>11th</td>\n",
       "      <td>7</td>\n",
       "      <td>Married-civ-spouse</td>\n",
       "      <td>Handlers-cleaners</td>\n",
       "      <td>Husband</td>\n",
       "      <td>Black</td>\n",
       "      <td>Male</td>\n",
       "      <td>0</td>\n",
       "      <td>0</td>\n",
       "      <td>40</td>\n",
       "      <td>United-States</td>\n",
       "    </tr>\n",
       "    <tr>\n",
       "      <th>4</th>\n",
       "      <td>28</td>\n",
       "      <td>Private</td>\n",
       "      <td>338409</td>\n",
       "      <td>Bachelors</td>\n",
       "      <td>13</td>\n",
       "      <td>Married-civ-spouse</td>\n",
       "      <td>Prof-specialty</td>\n",
       "      <td>Wife</td>\n",
       "      <td>Black</td>\n",
       "      <td>Female</td>\n",
       "      <td>0</td>\n",
       "      <td>0</td>\n",
       "      <td>40</td>\n",
       "      <td>Cuba</td>\n",
       "    </tr>\n",
       "    <tr>\n",
       "      <th>5</th>\n",
       "      <td>37</td>\n",
       "      <td>Private</td>\n",
       "      <td>284582</td>\n",
       "      <td>Masters</td>\n",
       "      <td>14</td>\n",
       "      <td>Married-civ-spouse</td>\n",
       "      <td>Exec-managerial</td>\n",
       "      <td>Wife</td>\n",
       "      <td>White</td>\n",
       "      <td>Female</td>\n",
       "      <td>0</td>\n",
       "      <td>0</td>\n",
       "      <td>40</td>\n",
       "      <td>United-States</td>\n",
       "    </tr>\n",
       "  </tbody>\n",
       "</table>\n",
       "</div>"
      ],
      "text/plain": [
       "   age               work  fnlwgt         edu  yredu             marriage  \\\n",
       "0   39          State-gov   77516   Bachelors     13        Never-married   \n",
       "1   50   Self-emp-not-inc   83311   Bachelors     13   Married-civ-spouse   \n",
       "2   38            Private  215646     HS-grad      9             Divorced   \n",
       "3   53            Private  234721        11th      7   Married-civ-spouse   \n",
       "4   28            Private  338409   Bachelors     13   Married-civ-spouse   \n",
       "5   37            Private  284582     Masters     14   Married-civ-spouse   \n",
       "\n",
       "           occupation    relationship    race      sex  capgain  caploss  \\\n",
       "0        Adm-clerical   Not-in-family   White     Male     2174        0   \n",
       "1     Exec-managerial         Husband   White     Male        0        0   \n",
       "2   Handlers-cleaners   Not-in-family   White     Male        0        0   \n",
       "3   Handlers-cleaners         Husband   Black     Male        0        0   \n",
       "4      Prof-specialty            Wife   Black   Female        0        0   \n",
       "5     Exec-managerial            Wife   White   Female        0        0   \n",
       "\n",
       "   workhr         country  \n",
       "0      40   United-States  \n",
       "1      13   United-States  \n",
       "2      40   United-States  \n",
       "3      40   United-States  \n",
       "4      40            Cuba  \n",
       "5      40   United-States  "
      ]
     },
     "execution_count": 4,
     "metadata": {},
     "output_type": "execute_result"
    }
   ],
   "source": [
    "df[:6]"
   ]
  },
  {
   "cell_type": "markdown",
   "metadata": {},
   "source": [
    "Alternatively, we can slice based on column names, \n",
    "for example `df[\"race\"]`, `df[\"hr\"]`, or even index multiple columns \n",
    "like below."
   ]
  },
  {
   "cell_type": "code",
   "execution_count": 5,
   "metadata": {},
   "outputs": [
    {
     "data": {
      "text/html": [
       "<div>\n",
       "<style scoped>\n",
       "    .dataframe tbody tr th:only-of-type {\n",
       "        vertical-align: middle;\n",
       "    }\n",
       "\n",
       "    .dataframe tbody tr th {\n",
       "        vertical-align: top;\n",
       "    }\n",
       "\n",
       "    .dataframe thead th {\n",
       "        text-align: right;\n",
       "    }\n",
       "</style>\n",
       "<table border=\"1\" class=\"dataframe\">\n",
       "  <thead>\n",
       "    <tr style=\"text-align: right;\">\n",
       "      <th></th>\n",
       "      <th>age</th>\n",
       "      <th>yredu</th>\n",
       "      <th>capgain</th>\n",
       "      <th>caploss</th>\n",
       "      <th>workhr</th>\n",
       "    </tr>\n",
       "  </thead>\n",
       "  <tbody>\n",
       "    <tr>\n",
       "      <th>0</th>\n",
       "      <td>39</td>\n",
       "      <td>13</td>\n",
       "      <td>2174</td>\n",
       "      <td>0</td>\n",
       "      <td>40</td>\n",
       "    </tr>\n",
       "    <tr>\n",
       "      <th>1</th>\n",
       "      <td>50</td>\n",
       "      <td>13</td>\n",
       "      <td>0</td>\n",
       "      <td>0</td>\n",
       "      <td>13</td>\n",
       "    </tr>\n",
       "    <tr>\n",
       "      <th>2</th>\n",
       "      <td>38</td>\n",
       "      <td>9</td>\n",
       "      <td>0</td>\n",
       "      <td>0</td>\n",
       "      <td>40</td>\n",
       "    </tr>\n",
       "  </tbody>\n",
       "</table>\n",
       "</div>"
      ],
      "text/plain": [
       "   age  yredu  capgain  caploss  workhr\n",
       "0   39     13     2174        0      40\n",
       "1   50     13        0        0      13\n",
       "2   38      9        0        0      40"
      ]
     },
     "execution_count": 5,
     "metadata": {},
     "output_type": "execute_result"
    }
   ],
   "source": [
    "subdf = df[[\"age\", \"yredu\", \"capgain\", \"caploss\", \"workhr\"]]\n",
    "subdf[:3] # show the first 3 records"
   ]
  },
  {
   "cell_type": "markdown",
   "metadata": {},
   "source": [
    "Numpy works nicely with pandas, like below:"
   ]
  },
  {
   "cell_type": "code",
   "execution_count": 6,
   "metadata": {},
   "outputs": [
    {
     "data": {
      "text/plain": [
       "2842700"
      ]
     },
     "execution_count": 6,
     "metadata": {},
     "output_type": "execute_result"
    }
   ],
   "source": [
    "np.sum(subdf[\"caploss\"])"
   ]
  },
  {
   "cell_type": "code",
   "execution_count": null,
   "metadata": {},
   "outputs": [],
   "source": []
  },
  {
   "cell_type": "markdown",
   "metadata": {},
   "source": [
    "### Part (c) Normalizing Continuous Features [1 pt]\n",
    "\n",
    "Normalize each of the features [\"age\", \"yredu\", \"capgain\", \"caploss\", \"workhr\"]\n",
    "so that their values are between 0 and 1. Just like numpy arrays, you can modify\n",
    "data frames. For example, the code \n",
    "\n",
    "`df[\"age\"] = df[\"age\"] + 1` \n",
    "\n",
    "would increase everyone's age by 1."
   ]
  },
  {
   "cell_type": "code",
   "execution_count": 7,
   "metadata": {},
   "outputs": [],
   "source": [
    "for thing in [\"age\", \"yredu\", \"capgain\", \"caploss\", \"workhr\"]:\n",
    "    df[thing] = (df[thing]-np.min(subdf[thing]))/(np.max(subdf[thing])-np.min(subdf[thing]))"
   ]
  },
  {
   "cell_type": "markdown",
   "metadata": {},
   "source": [
    "### Part (d) Categorical Features [1 pt]\n",
    "\n",
    "What percentage of people in our data set is male? Note that the data labels all have an unfortunate space in the beginning, e.g. \" Male\" instead of \"Male\".\n",
    "\n",
    "What percentage of people in our data set is female?"
   ]
  },
  {
   "cell_type": "code",
   "execution_count": 8,
   "metadata": {},
   "outputs": [
    {
     "name": "stdout",
     "output_type": "stream",
     "text": [
      "66.92054912318417% of the people are male and 33.07945087681582% of the people are female\n"
     ]
    }
   ],
   "source": [
    "# hint: you can do something like this in pandas\n",
    "percent_male = 100*sum(df[\"sex\"] == \" Male\")/df.shape[0]\n",
    "percent_female = 100*sum(df[\"sex\"] == \" Female\")/df.shape[0]\n",
    "\n",
    "print(str(percent_male)+\"% of the people are male and \"+str(percent_female)+\"% of the people are female\")"
   ]
  },
  {
   "cell_type": "markdown",
   "metadata": {},
   "source": [
    "### Part (e) Missing Values [1 pt]\n",
    "\n",
    "We will do two things in this part:\n",
    "\n",
    "1. We will restrict ourselves to a subset of the features\n",
    "2. We will remove any records (rows) containing missing values, and store it in a second dataframe.\n",
    "\n",
    "Both of these steps are done for you.\n",
    "\n",
    "Report the number of records with and without missing features of interest."
   ]
  },
  {
   "cell_type": "code",
   "execution_count": 9,
   "metadata": {},
   "outputs": [],
   "source": [
    "contcols = [\"age\", \"yredu\", \"capgain\", \"caploss\", \"workhr\"]\n",
    "catcols = [\"work\", \"marriage\", \"occupation\", \"edu\", \"relationship\", \"sex\"]\n",
    "features = contcols + catcols\n",
    "df = df[features]"
   ]
  },
  {
   "cell_type": "code",
   "execution_count": 10,
   "metadata": {},
   "outputs": [],
   "source": [
    "missing = pd.concat([df[c] == \" ?\" for c in catcols], axis=1).any(axis=1)\n",
    "df_with_missing = df[missing]\n",
    "df_not_missing = df[~missing]"
   ]
  },
  {
   "cell_type": "code",
   "execution_count": 11,
   "metadata": {},
   "outputs": [
    {
     "name": "stdout",
     "output_type": "stream",
     "text": [
      "1843 of the records have missing features and 30718 do not\n"
     ]
    }
   ],
   "source": [
    "print(str(df_with_missing.shape[0])+\" of the records have missing features and \"+str(df_not_missing.shape[0])+\" do not\")"
   ]
  },
  {
   "cell_type": "markdown",
   "metadata": {},
   "source": [
    "### Part (f) One-Hot Encoding [1 pt]\n",
    "\n",
    "What are all the possible values of \"work\" in `df_not_missing`? You may find the Python function `set` useful."
   ]
  },
  {
   "cell_type": "code",
   "execution_count": 12,
   "metadata": {},
   "outputs": [
    {
     "data": {
      "text/plain": [
       "{' Federal-gov',\n",
       " ' Local-gov',\n",
       " ' Private',\n",
       " ' Self-emp-inc',\n",
       " ' Self-emp-not-inc',\n",
       " ' State-gov',\n",
       " ' Without-pay'}"
      ]
     },
     "execution_count": 12,
     "metadata": {},
     "output_type": "execute_result"
    }
   ],
   "source": [
    "set(df_not_missing[\"work\"])"
   ]
  },
  {
   "cell_type": "markdown",
   "metadata": {},
   "source": [
    "As discussed in class and in tutorial, we will be using a one-hot encoding \n",
    "to encode each of the categorical variables.\n",
    "\n",
    "We will use the pandas function `get_dummies`:"
   ]
  },
  {
   "cell_type": "code",
   "execution_count": 13,
   "metadata": {},
   "outputs": [],
   "source": [
    "data = pd.get_dummies(df_not_missing)"
   ]
  },
  {
   "cell_type": "code",
   "execution_count": 14,
   "metadata": {
    "scrolled": true
   },
   "outputs": [
    {
     "data": {
      "text/html": [
       "<div>\n",
       "<style scoped>\n",
       "    .dataframe tbody tr th:only-of-type {\n",
       "        vertical-align: middle;\n",
       "    }\n",
       "\n",
       "    .dataframe tbody tr th {\n",
       "        vertical-align: top;\n",
       "    }\n",
       "\n",
       "    .dataframe thead th {\n",
       "        text-align: right;\n",
       "    }\n",
       "</style>\n",
       "<table border=\"1\" class=\"dataframe\">\n",
       "  <thead>\n",
       "    <tr style=\"text-align: right;\">\n",
       "      <th></th>\n",
       "      <th>age</th>\n",
       "      <th>yredu</th>\n",
       "      <th>capgain</th>\n",
       "      <th>caploss</th>\n",
       "      <th>workhr</th>\n",
       "      <th>work_ Federal-gov</th>\n",
       "      <th>work_ Local-gov</th>\n",
       "      <th>work_ Private</th>\n",
       "      <th>work_ Self-emp-inc</th>\n",
       "      <th>work_ Self-emp-not-inc</th>\n",
       "      <th>...</th>\n",
       "      <th>edu_ Prof-school</th>\n",
       "      <th>edu_ Some-college</th>\n",
       "      <th>relationship_ Husband</th>\n",
       "      <th>relationship_ Not-in-family</th>\n",
       "      <th>relationship_ Other-relative</th>\n",
       "      <th>relationship_ Own-child</th>\n",
       "      <th>relationship_ Unmarried</th>\n",
       "      <th>relationship_ Wife</th>\n",
       "      <th>sex_ Female</th>\n",
       "      <th>sex_ Male</th>\n",
       "    </tr>\n",
       "  </thead>\n",
       "  <tbody>\n",
       "    <tr>\n",
       "      <th>0</th>\n",
       "      <td>0.301370</td>\n",
       "      <td>0.800000</td>\n",
       "      <td>0.02174</td>\n",
       "      <td>0.0</td>\n",
       "      <td>0.397959</td>\n",
       "      <td>0</td>\n",
       "      <td>0</td>\n",
       "      <td>0</td>\n",
       "      <td>0</td>\n",
       "      <td>0</td>\n",
       "      <td>...</td>\n",
       "      <td>0</td>\n",
       "      <td>0</td>\n",
       "      <td>0</td>\n",
       "      <td>1</td>\n",
       "      <td>0</td>\n",
       "      <td>0</td>\n",
       "      <td>0</td>\n",
       "      <td>0</td>\n",
       "      <td>0</td>\n",
       "      <td>1</td>\n",
       "    </tr>\n",
       "    <tr>\n",
       "      <th>1</th>\n",
       "      <td>0.452055</td>\n",
       "      <td>0.800000</td>\n",
       "      <td>0.00000</td>\n",
       "      <td>0.0</td>\n",
       "      <td>0.122449</td>\n",
       "      <td>0</td>\n",
       "      <td>0</td>\n",
       "      <td>0</td>\n",
       "      <td>0</td>\n",
       "      <td>1</td>\n",
       "      <td>...</td>\n",
       "      <td>0</td>\n",
       "      <td>0</td>\n",
       "      <td>1</td>\n",
       "      <td>0</td>\n",
       "      <td>0</td>\n",
       "      <td>0</td>\n",
       "      <td>0</td>\n",
       "      <td>0</td>\n",
       "      <td>0</td>\n",
       "      <td>1</td>\n",
       "    </tr>\n",
       "    <tr>\n",
       "      <th>2</th>\n",
       "      <td>0.287671</td>\n",
       "      <td>0.533333</td>\n",
       "      <td>0.00000</td>\n",
       "      <td>0.0</td>\n",
       "      <td>0.397959</td>\n",
       "      <td>0</td>\n",
       "      <td>0</td>\n",
       "      <td>1</td>\n",
       "      <td>0</td>\n",
       "      <td>0</td>\n",
       "      <td>...</td>\n",
       "      <td>0</td>\n",
       "      <td>0</td>\n",
       "      <td>0</td>\n",
       "      <td>1</td>\n",
       "      <td>0</td>\n",
       "      <td>0</td>\n",
       "      <td>0</td>\n",
       "      <td>0</td>\n",
       "      <td>0</td>\n",
       "      <td>1</td>\n",
       "    </tr>\n",
       "    <tr>\n",
       "      <th>3</th>\n",
       "      <td>0.493151</td>\n",
       "      <td>0.400000</td>\n",
       "      <td>0.00000</td>\n",
       "      <td>0.0</td>\n",
       "      <td>0.397959</td>\n",
       "      <td>0</td>\n",
       "      <td>0</td>\n",
       "      <td>1</td>\n",
       "      <td>0</td>\n",
       "      <td>0</td>\n",
       "      <td>...</td>\n",
       "      <td>0</td>\n",
       "      <td>0</td>\n",
       "      <td>1</td>\n",
       "      <td>0</td>\n",
       "      <td>0</td>\n",
       "      <td>0</td>\n",
       "      <td>0</td>\n",
       "      <td>0</td>\n",
       "      <td>0</td>\n",
       "      <td>1</td>\n",
       "    </tr>\n",
       "    <tr>\n",
       "      <th>4</th>\n",
       "      <td>0.150685</td>\n",
       "      <td>0.800000</td>\n",
       "      <td>0.00000</td>\n",
       "      <td>0.0</td>\n",
       "      <td>0.397959</td>\n",
       "      <td>0</td>\n",
       "      <td>0</td>\n",
       "      <td>1</td>\n",
       "      <td>0</td>\n",
       "      <td>0</td>\n",
       "      <td>...</td>\n",
       "      <td>0</td>\n",
       "      <td>0</td>\n",
       "      <td>0</td>\n",
       "      <td>0</td>\n",
       "      <td>0</td>\n",
       "      <td>0</td>\n",
       "      <td>0</td>\n",
       "      <td>1</td>\n",
       "      <td>1</td>\n",
       "      <td>0</td>\n",
       "    </tr>\n",
       "  </tbody>\n",
       "</table>\n",
       "<p>5 rows × 57 columns</p>\n",
       "</div>"
      ],
      "text/plain": [
       "        age     yredu  capgain  caploss    workhr  work_ Federal-gov  \\\n",
       "0  0.301370  0.800000  0.02174      0.0  0.397959                  0   \n",
       "1  0.452055  0.800000  0.00000      0.0  0.122449                  0   \n",
       "2  0.287671  0.533333  0.00000      0.0  0.397959                  0   \n",
       "3  0.493151  0.400000  0.00000      0.0  0.397959                  0   \n",
       "4  0.150685  0.800000  0.00000      0.0  0.397959                  0   \n",
       "\n",
       "   work_ Local-gov  work_ Private  work_ Self-emp-inc  work_ Self-emp-not-inc  \\\n",
       "0                0              0                   0                       0   \n",
       "1                0              0                   0                       1   \n",
       "2                0              1                   0                       0   \n",
       "3                0              1                   0                       0   \n",
       "4                0              1                   0                       0   \n",
       "\n",
       "   ...  edu_ Prof-school  edu_ Some-college  relationship_ Husband  \\\n",
       "0  ...                 0                  0                      0   \n",
       "1  ...                 0                  0                      1   \n",
       "2  ...                 0                  0                      0   \n",
       "3  ...                 0                  0                      1   \n",
       "4  ...                 0                  0                      0   \n",
       "\n",
       "   relationship_ Not-in-family  relationship_ Other-relative  \\\n",
       "0                            1                             0   \n",
       "1                            0                             0   \n",
       "2                            1                             0   \n",
       "3                            0                             0   \n",
       "4                            0                             0   \n",
       "\n",
       "   relationship_ Own-child  relationship_ Unmarried  relationship_ Wife  \\\n",
       "0                        0                        0                   0   \n",
       "1                        0                        0                   0   \n",
       "2                        0                        0                   0   \n",
       "3                        0                        0                   0   \n",
       "4                        0                        0                   1   \n",
       "\n",
       "   sex_ Female  sex_ Male  \n",
       "0            0          1  \n",
       "1            0          1  \n",
       "2            0          1  \n",
       "3            0          1  \n",
       "4            1          0  \n",
       "\n",
       "[5 rows x 57 columns]"
      ]
     },
     "execution_count": 14,
     "metadata": {},
     "output_type": "execute_result"
    }
   ],
   "source": [
    "data[:5]"
   ]
  },
  {
   "cell_type": "markdown",
   "metadata": {},
   "source": [
    "### Part (g) One-Hot Encoding [1 pt]\n",
    "\n",
    "How many columns are in the dataframe `data`?\n",
    "\n",
    "Briefly explain where that number come from. (You don't need to be detailed here.)"
   ]
  },
  {
   "cell_type": "code",
   "execution_count": 15,
   "metadata": {},
   "outputs": [],
   "source": [
    "#The possible values of each column of df_not_missing becomes a column in data, so there are more columns in data"
   ]
  },
  {
   "cell_type": "markdown",
   "metadata": {},
   "source": [
    "### Part (h) One-Hot Conversion [3 pt]\n",
    "\n",
    "We will convert the pandas data frame into numpy below.\n",
    "However, in doing so, we lose the column information that\n",
    "a panda data frame automatically stores.\n",
    "\n",
    "Complete the function `get_categorical_value` that will return\n",
    "the named value of a feature given a one-hot embedding.\n",
    "You may find the global variables `cat_index` and `cat_values`\n",
    "useful. (Display them and figure out what they are first.)\n",
    "\n",
    "We will use this function on the output of our autoencoder,\n",
    "to interpret our autoencoder outputs. So the input \n",
    "one-hot vectors might not actually be \"one-hot\".\n"
   ]
  },
  {
   "cell_type": "code",
   "execution_count": 16,
   "metadata": {},
   "outputs": [],
   "source": [
    "datanp = data.values.astype(np.float32)"
   ]
  },
  {
   "cell_type": "code",
   "execution_count": 17,
   "metadata": {},
   "outputs": [],
   "source": [
    "cat_index = {}  # Mapping of feature -> start index of feature in a record\n",
    "cat_values = {} # Mapping of feature -> list of categorical values the feature can take\n",
    "\n",
    "# build up the cat_index and cat_values dictionary\n",
    "for i, header in enumerate(data.keys()):\n",
    "    if \"_\" in header: # categorical header\n",
    "        feature, value = header.split()\n",
    "        feature = feature[:-1] # remove the last char; it is always an underscore\n",
    "        if feature not in cat_index:\n",
    "            cat_index[feature] = i\n",
    "            cat_values[feature] = [value]\n",
    "        else:\n",
    "            cat_values[feature].append(value)\n",
    "\n",
    "def get_onehot(record, feature):\n",
    "    \"\"\"\n",
    "    Return the portion of `record` that is the one-hot encoding\n",
    "    of feature. For example, since the feature \"work\" is stored\n",
    "    in the indices [5:12] in each record, calling `get_onehot?(record, \"work\")`\n",
    "    is equivalent to accessing `record[5:12]`.\n",
    "    \n",
    "    Args:\n",
    "        - record: a numpy array representing one record, formatted\n",
    "                  the same way as a row in `data.np`\n",
    "        - feature: a string, should be an element of `catcols`\n",
    "    \"\"\"\n",
    "    start_index = cat_index[feature]\n",
    "    stop_index = cat_index[feature] + len(cat_values[feature])\n",
    "    return record[start_index:stop_index]\n",
    "\n",
    "def get_categorical_value(onehot, feature):\n",
    "    \"\"\"\n",
    "    Return the categorical value name of a feature given\n",
    "    a one-hot vector representing the feature.\n",
    "    \n",
    "    Args:\n",
    "        - onehot: a numpy array one-hot representation of the feature\n",
    "        - feature: a string, should be an element of `catcols`\n",
    "        \n",
    "    Examples:\n",
    "    \n",
    "    >>> get_categorical_value(np.array([0., 0., 0., 0., 0., 1., 0.]), \"work\")\n",
    "    'State-gov'\n",
    "    >>> get_categorical_value(np.array([0.1, 0., 1.1, 0.2, 0., 1., 0.]), \"work\")\n",
    "    'Private'\n",
    "    \"\"\"\n",
    "    index = np.argmax(onehot)\n",
    "    \n",
    "    value = cat_values[feature][index]\n",
    "    \n",
    "    return value\n",
    "\n",
    "def get_feature(record, feature):\n",
    "    \"\"\"\n",
    "    Return the categorical feature value of a record\n",
    "    \"\"\"\n",
    "    onehot = get_onehot(record, feature)\n",
    "    return get_categorical_value(onehot, feature)\n",
    "\n",
    "def get_features(record):\n",
    "    \"\"\"\n",
    "    Return a dictionary of all categorical feature values of a record\n",
    "    \"\"\"\n",
    "    return { f: get_feature(record, f) for f in catcols }"
   ]
  },
  {
   "cell_type": "markdown",
   "metadata": {},
   "source": [
    "### Part (i) Train/Test Split [2 pt]\n",
    "\n",
    "Randomly split the data into approximately 70% training, 15% validation and 15% test.\n",
    "\n",
    "Report the number of items in your training, validation, and test set."
   ]
  },
  {
   "cell_type": "code",
   "execution_count": 18,
   "metadata": {},
   "outputs": [
    {
     "name": "stdout",
     "output_type": "stream",
     "text": [
      "training length: 21502\n",
      "validation length: 4608\n",
      "test length: 4608\n"
     ]
    }
   ],
   "source": [
    "np.random.seed(50) # set the numpy seed for consistent split\n",
    "\n",
    "np.random.shuffle(datanp)\n",
    "\n",
    "training = datanp[0:int(0.7*len(datanp))]\n",
    "validation = datanp[int(0.7*len(datanp)):int(0.85*len(datanp))]\n",
    "test = datanp[int(0.85*len(datanp)):len(datanp)]\n",
    "\n",
    "print('training length:',len(training))\n",
    "print('validation length:',len(validation))\n",
    "print('test length:',len(test))"
   ]
  },
  {
   "cell_type": "markdown",
   "metadata": {},
   "source": [
    "## Part 2. Model Setup [4 pt]\n",
    "\n",
    "Design a fully-connected autoencoder by modifying the `encoder` and `decoder`. \n",
    "\n",
    "There will be a sigmoid activation at the decoder, so that\n",
    "the output of the decoder is between 0 and 1. We will not interpret \n",
    "the output of the sigmoid as a probability."
   ]
  },
  {
   "cell_type": "code",
   "execution_count": 211,
   "metadata": {},
   "outputs": [],
   "source": [
    "from torch import nn\n",
    "\n",
    "class AutoEncoder(nn.Module):\n",
    "    def __init__(self):\n",
    "        super(AutoEncoder, self).__init__()\n",
    "        self.encoder = nn.Sequential(\n",
    "            nn.Linear(57, 57),\n",
    "            nn.ReLU(),\n",
    "            nn.Linear(57, 30),\n",
    "            nn.ReLU(),\n",
    "#             nn.Linear(30, 10),\n",
    "#             nn.ReLU(),\n",
    "        )\n",
    "        self.decoder = nn.Sequential(            \n",
    "#             nn.Linear(10, 30),\n",
    "#             nn.ReLU(),\n",
    "            nn.Linear(30, 57),\n",
    "#             nn.ReLU(),\n",
    "#             nn.Linear(57, 57),\n",
    "            nn.Sigmoid() # get to the range (0, 1)\n",
    "        )\n",
    "\n",
    "    def forward(self, x):\n",
    "        x = self.encoder(x)\n",
    "        x = self.decoder(x)\n",
    "        return x"
   ]
  },
  {
   "cell_type": "markdown",
   "metadata": {},
   "source": [
    "## Part 3. Training [18] \n",
    "\n",
    "### Part (a) [6 pt]\n",
    "\n",
    "We will train our autoencoder as follows:\n",
    "\n",
    "- In each iteration, we will hide one of the categorical features using the `zero_out_random_features` function\n",
    "- We will pass the data with one missing feature through the autoencoder, obtaining a reconstruction\n",
    "- We will check how close the reconstruction is compared to the original data (without the missing feature)\n",
    "\n",
    "Complete the code to train the autoencoder, and plot the training and validation loss every few iterations.\n",
    "You may also want to plot training and validation \"accuracy\" every few iterations, as we will define in\n",
    "part (b). You may also want to checkpoint your model every few epochs.\n",
    "\n",
    "Use `nn.MSELoss()` as your loss function. (Side note: you might recognize that this loss function is not\n",
    "ideal for this problem, but we will use it anyways.)"
   ]
  },
  {
   "cell_type": "code",
   "execution_count": 212,
   "metadata": {},
   "outputs": [],
   "source": [
    "def zero_out_feature(records, feature):\n",
    "    \"\"\" Set the feature missing in records, by setting the appropriate\n",
    "    columns of records to 0\n",
    "    \"\"\"\n",
    "    start_index = cat_index[feature]\n",
    "    stop_index = cat_index[feature] + len(cat_values[feature])\n",
    "    records[:, start_index:stop_index] = 0\n",
    "    return records\n",
    "\n",
    "def zero_out_random_feature(records):\n",
    "    \"\"\" Set one random feature missing in records, by setting the \n",
    "    appropriate columns of records to 0\n",
    "    \"\"\"\n",
    "    return zero_out_feature(records, random.choice(catcols))\n",
    "\n",
    "def train(model, train_loader, valid_loader, num_epochs=5, learning_rate=1e-4):\n",
    "    \"\"\" Training loop. You should update this.\"\"\"\n",
    "    torch.manual_seed(42)\n",
    "    criterion = nn.MSELoss()\n",
    "    optimizer = torch.optim.Adam(model.parameters(), lr=learning_rate)\n",
    "    \n",
    "    train_loss = np.zeros(num_epochs)\n",
    "    val_loss = np.zeros(num_epochs)\n",
    "    \n",
    "    train_acc = np.zeros(num_epochs)\n",
    "    val_acc = np.zeros(num_epochs)\n",
    "\n",
    "    for epoch in range(num_epochs):\n",
    "        \n",
    "        total_train = 0\n",
    "        total_val = 0\n",
    "        \n",
    "        for i, data in enumerate(train_loader):\n",
    "            datam = zero_out_random_feature(data.clone()) # zero out one categorical feature\n",
    "            recon = model(datam)\n",
    "            loss = criterion(recon, data)\n",
    "            loss.backward()\n",
    "            optimizer.step()\n",
    "            optimizer.zero_grad()\n",
    "            \n",
    "            total_train += loss.item()\n",
    "        \n",
    "        train_loss[epoch] = total_train/(i+1)\n",
    "            \n",
    "        for i, data in enumerate(val_loader):\n",
    "            datam = zero_out_random_feature(data.detach().clone()) # zero out one categorical feature\n",
    "            recon = model(datam).detach()\n",
    "            loss = criterion(recon, data)\n",
    "            \n",
    "            total_val += loss.item()\n",
    "            \n",
    "        \n",
    "        val_loss[epoch] = total_val/(i+1)\n",
    "        \n",
    "        train_acc[epoch] = get_accuracy(model, train_loader)\n",
    "        val_acc[epoch] = get_accuracy(model, val_loader)\n",
    "        \n",
    "    return train_loss, val_loss, train_acc, val_acc"
   ]
  },
  {
   "cell_type": "markdown",
   "metadata": {},
   "source": [
    "### Part (b) [3 pt]\n",
    "\n",
    "While plotting training and validation loss is valuable, loss values are less easy to compare\n",
    "than accuracy percentages. The reason is that the scale of the loss value changes depending\n",
    "on your batch size. It would be nice to have a measure of \"accuracy\" in this problem.\n",
    "\n",
    "Since we will only be imputing missing categorical values, we will define an accuracy measure.\n",
    "For each record and for each categorical feature, we determine whether\n",
    "the model can predict the categorical feature given all the other features of the record.\n",
    "\n",
    "A function `get_accuracy` is written for you. It is up to you to figure out how to\n",
    "use the function. You don't need to do anything else in this part. To earn the 4 marks,\n",
    "plot the training and validation accuracy every few iterations/epochs as part of your\n",
    "training curve."
   ]
  },
  {
   "cell_type": "code",
   "execution_count": 213,
   "metadata": {},
   "outputs": [],
   "source": [
    "def get_accuracy(model, data_loader):\n",
    "    \"\"\"Return the \"accuracy\" of the autoencoder model across a data set\n",
    "    \n",
    "    Args:\n",
    "       - model: the autoencoder model, an instance of nn.Module\n",
    "       - data_loader: an instance of torch.utils.data.DataLoader\n",
    "\n",
    "    Example (to illustrate how get_accuracy is intended to be called.\n",
    "             depending on your variable naming this code might not work\n",
    "             out of the box)\n",
    "\n",
    "        >>> model = AutoEncoder()\n",
    "        >>> vdl = torch.utils.data.DataLoader(data_valid, batch_size=256, shuffle=True)\n",
    "        >>> get_accuracy(model, vdl)\n",
    "    \"\"\"\n",
    "    total = 0\n",
    "    acc = 0\n",
    "    for col in catcols:\n",
    "        for item in data_loader: # minibatches\n",
    "            inp = item.detach().numpy()\n",
    "            out = model(zero_out_feature(item.clone(), col)).detach().numpy()\n",
    "            for i in range(out.shape[0]): # record in minibatch\n",
    "                acc += int(get_feature(out[i], col) == get_feature(inp[i], col))\n",
    "                total += 1\n",
    "    return acc / total"
   ]
  },
  {
   "cell_type": "markdown",
   "metadata": {},
   "source": [
    "### Part (c) [4 pt]\n",
    "\n",
    "Run the training code, using reasonable settings like batch_size, learning rate, etc.\n",
    "\n",
    "Include your training curve in your pdf output."
   ]
  },
  {
   "cell_type": "code",
   "execution_count": 268,
   "metadata": {},
   "outputs": [],
   "source": [
    "# train_loader = torch.utils.data.DataLoader(training, batch_size=256, shuffle=True)\n",
    "# val_loader = torch.utils.data.DataLoader(validation, batch_size=256, shuffle=True)\n",
    "\n",
    "# encoder1 = AutoEncoder()\n",
    "# train_loss, val_loss, train_acc, val_acc = train(encoder1, train_loader, val_loader, \n",
    "#                                                  num_epochs=100, learning_rate=1e-4)\n",
    "\n",
    "train_loader = torch.utils.data.DataLoader(training, batch_size=512, shuffle=True)\n",
    "val_loader = torch.utils.data.DataLoader(validation, batch_size=512, shuffle=True)\n",
    "\n",
    "encoder1 = AutoEncoder()\n",
    "train_loss, val_loss, train_acc, val_acc = train(encoder1, train_loader, val_loader, num_epochs=100, \n",
    "                                                 learning_rate=1e-3)"
   ]
  },
  {
   "cell_type": "code",
   "execution_count": 269,
   "metadata": {},
   "outputs": [
    {
     "name": "stdout",
     "output_type": "stream",
     "text": [
      "[0.20214256 0.08225297 0.06882404 0.0616312  0.05504868] [0.01034095 0.00839321 0.00973644 0.0098613  0.01016131]\n",
      "[0.12354041 0.07099974 0.06571766 0.05660254 0.05300146] [0.01293865 0.00839138 0.00869221 0.01056559 0.01139632]\n",
      "\n",
      "[0.36805879 0.46034477 0.48538896 0.54401916 0.55103401] [0.65955105 0.65972158 0.64655226 0.65665209 0.65838837]\n",
      "[0.36816406 0.46006944 0.48397714 0.54271557 0.55121528] [0.65657552 0.65614149 0.64416956 0.65418837 0.65483941]\n"
     ]
    }
   ],
   "source": [
    "print(train_loss[:5], train_loss[-5:])\n",
    "print(val_loss[:5], val_loss[-5:])\n",
    "print()\n",
    "print(train_acc[:5], train_acc[-5:])\n",
    "print(val_acc[:5], val_acc[-5:])"
   ]
  },
  {
   "cell_type": "code",
   "execution_count": 270,
   "metadata": {},
   "outputs": [
    {
     "data": {
      "image/png": "[encoded data removed]",
      "text/plain": [
       "<Figure size 432x288 with 1 Axes>"
      ]
     },
     "metadata": {
      "needs_background": "light"
     },
     "output_type": "display_data"
    }
   ],
   "source": [
    "%matplotlib inline\n",
    "import matplotlib.pyplot as plt\n",
    "\n",
    "#train_loss = np.loadtxt(\"{}_train_loss.csv\".format(path))\n",
    "#val_loss = np.loadtxt(\"{}_val_loss.csv\".format(path))\n",
    "plt.show()\n",
    "plt.title(\"Train vs Validation Loss\")\n",
    "plt.plot(range(1,len(train_loss)+1), train_loss, label=\"Train\")\n",
    "plt.plot(range(1,len(val_loss)+1), val_loss, label=\"Validation\")\n",
    "plt.xlabel(\"Epoch\")\n",
    "plt.ylabel(\"Loss\")\n",
    "plt.legend(loc='best')\n",
    "plt.show()"
   ]
  },
  {
   "cell_type": "code",
   "execution_count": 271,
   "metadata": {},
   "outputs": [
    {
     "data": {
      "image/png": "[encoded data removed]",
      "text/plain": [
       "<Figure size 432x288 with 1 Axes>"
      ]
     },
     "metadata": {
      "needs_background": "light"
     },
     "output_type": "display_data"
    }
   ],
   "source": [
    "plt.show()\n",
    "plt.title(\"Train vs Validation Accuracy\")\n",
    "plt.plot(range(1,len(train_acc)+1), train_acc, label=\"Train\")\n",
    "plt.plot(range(1,len(val_acc)+1), val_acc, label=\"Validation\")\n",
    "plt.xlabel(\"Epoch\")\n",
    "plt.ylabel(\"Accuracy\")\n",
    "plt.legend(loc='best')\n",
    "plt.show()"
   ]
  },
  {
   "cell_type": "markdown",
   "metadata": {},
   "source": [
    "### Part (d) [5 pt]\n",
    "\n",
    "Tune your hyperparameters, training at least 4 different models.\n",
    "\n",
    "Do not include all your training curves. Instead, explain what hyperparameters\n",
    "you tried, what their effect was, and what your thought process was as you \n",
    "chose the next set of hyperparameters to try."
   ]
  },
  {
   "cell_type": "markdown",
   "metadata": {},
   "source": [
    " -  I tried changing the batch size. I found that \n",
    "     -  with a lower batch size of 64, the accuracy became worse (the first batch size I had was 256)\n",
    "     -  with a higher batch size 512, it got better\n",
    "     -  with an even higher batch size of 1024, it did not improve\n",
    " - Changing the learning rate\n",
    "     -  Increasing the learning rate from 0.0001 to 0.001 slighly improved the accuracy\n",
    "     -  increasing to a higher learning rate 0.1 did not work\n",
    " - Tried changing the network architecture\n",
    "     -  The model worked better when the encoded layer was larger. When I decreased the encoded layer to 5 and 10 nodes, the accuracy decreased. I think this is because larger layers can hold more information.\n",
    "     -  Adding more layers did not seem to help\n",
    " - Overall, the hyperparameters appeared to be codependent. Changing one requires having to tune the others to get the best results\n",
    "      "
   ]
  },
  {
   "cell_type": "markdown",
   "metadata": {},
   "source": [
    "## Part 4. Testing [6 pt]\n",
    "\n",
    "### Part (a) [1 pt]\n",
    "\n",
    "Compute the test accuracy across the test set."
   ]
  },
  {
   "cell_type": "code",
   "execution_count": 228,
   "metadata": {},
   "outputs": [
    {
     "name": "stdout",
     "output_type": "stream",
     "text": [
      "0.6351273148148148\n"
     ]
    }
   ],
   "source": [
    "test_loader = torch.utils.data.DataLoader(test, batch_size=1024, shuffle=True)\n",
    "test_acc = get_accuracy(encoder1, test_loader)\n",
    "print(test_acc)"
   ]
  },
  {
   "cell_type": "markdown",
   "metadata": {},
   "source": [
    "### Part (b) [2 pt]\n",
    "\n",
    "Consider an alterative, baseline model that predicts missing data as follows. To predict a missing feature, the\n",
    "baseline model will look at the **most common value** of the feature in the training set. For example, if the feature \"marriage\" is missing, then this model's prediction will be the most common value for \"marriage\" in the training set.\n",
    "\n",
    "What would be the test accuracy of this baseline model?\n",
    "\n",
    "It is often helpful to use the performance of the baseline model to help judge how well our model is actually performing. No explanation is required in this question, just your calculations."
   ]
  },
  {
   "cell_type": "code",
   "execution_count": 233,
   "metadata": {},
   "outputs": [
    {
     "name": "stdout",
     "output_type": "stream",
     "text": [
      "0.1810515873015873\n"
     ]
    }
   ],
   "source": [
    "probability = 0\n",
    "\n",
    "for thing in cat_values:\n",
    "    probability += 1/len(cat_values[thing])\n",
    "    \n",
    "base_acc = probability/len(cat_values)\n",
    "\n",
    "print(base_acc)"
   ]
  },
  {
   "cell_type": "markdown",
   "metadata": {},
   "source": [
    "### Part (c) [1 pt]\n",
    "\n",
    "Look at the first item in your test data. \n",
    "Do you think it is reasonable for a human\n",
    "to be able to guess this person's education level\n",
    "based on their other features? Explain."
   ]
  },
  {
   "cell_type": "code",
   "execution_count": 249,
   "metadata": {},
   "outputs": [
    {
     "data": {
      "text/plain": [
       "age                                0.657534\n",
       "yredu                              0.800000\n",
       "capgain                            0.067231\n",
       "caploss                            0.000000\n",
       "workhr                             0.397959\n",
       "work_ Federal-gov                  0.000000\n",
       "work_ Local-gov                    0.000000\n",
       "work_ Private                      1.000000\n",
       "work_ Self-emp-inc                 0.000000\n",
       "work_ Self-emp-not-inc             0.000000\n",
       "work_ State-gov                    0.000000\n",
       "work_ Without-pay                  0.000000\n",
       "marriage_ Divorced                 1.000000\n",
       "marriage_ Married-AF-spouse        0.000000\n",
       "marriage_ Married-civ-spouse       0.000000\n",
       "marriage_ Married-spouse-absent    0.000000\n",
       "marriage_ Never-married            0.000000\n",
       "marriage_ Separated                0.000000\n",
       "marriage_ Widowed                  0.000000\n",
       "occupation_ Adm-clerical           0.000000\n",
       "occupation_ Armed-Forces           0.000000\n",
       "occupation_ Craft-repair           0.000000\n",
       "occupation_ Exec-managerial        0.000000\n",
       "occupation_ Farming-fishing        0.000000\n",
       "occupation_ Handlers-cleaners      0.000000\n",
       "occupation_ Machine-op-inspct      0.000000\n",
       "occupation_ Other-service          0.000000\n",
       "occupation_ Priv-house-serv        0.000000\n",
       "occupation_ Prof-specialty         1.000000\n",
       "occupation_ Protective-serv        0.000000\n",
       "occupation_ Sales                  0.000000\n",
       "occupation_ Tech-support           0.000000\n",
       "occupation_ Transport-moving       0.000000\n",
       "edu_ 10th                          0.000000\n",
       "edu_ 11th                          0.000000\n",
       "edu_ 12th                          0.000000\n",
       "edu_ 1st-4th                       0.000000\n",
       "edu_ 5th-6th                       0.000000\n",
       "edu_ 7th-8th                       0.000000\n",
       "edu_ 9th                           0.000000\n",
       "edu_ Assoc-acdm                    0.000000\n",
       "edu_ Assoc-voc                     0.000000\n",
       "edu_ Bachelors                     1.000000\n",
       "edu_ Doctorate                     0.000000\n",
       "edu_ HS-grad                       0.000000\n",
       "edu_ Masters                       0.000000\n",
       "edu_ Preschool                     0.000000\n",
       "edu_ Prof-school                   0.000000\n",
       "edu_ Some-college                  0.000000\n",
       "relationship_ Husband              0.000000\n",
       "relationship_ Not-in-family        1.000000\n",
       "relationship_ Other-relative       0.000000\n",
       "relationship_ Own-child            0.000000\n",
       "relationship_ Unmarried            0.000000\n",
       "relationship_ Wife                 0.000000\n",
       "sex_ Female                        0.000000\n",
       "sex_ Male                          1.000000\n",
       "Name: 0, dtype: float32"
      ]
     },
     "execution_count": 249,
     "metadata": {},
     "output_type": "execute_result"
    }
   ],
   "source": [
    "xyz=test[0:1]\n",
    "#\n",
    "xyz = xyz.copy()\n",
    "xyz\n",
    "dfxyz = pd.DataFrame(xyz, columns=data.columns)\n",
    "dfxyz.iloc[0]"
   ]
  },
  {
   "cell_type": "code",
   "execution_count": null,
   "metadata": {},
   "outputs": [],
   "source": [
    "# I think it would be possible to make a good guess about this person's education level\n",
    "# based on information given about there work and occupation\n",
    "# this person works for a private company and has a professional specialty occupation\n",
    "# so this might lead someone to guess that they have their bachelors\n",
    "# however other education levels would also be possible, so we would not be guaranteed to guess correctly"
   ]
  },
  {
   "cell_type": "markdown",
   "metadata": {},
   "source": [
    "### Part (d) [2 pt]\n",
    "\n",
    "What is your model's guess of this person's education\n",
    "level, given their other features?\n"
   ]
  },
  {
   "cell_type": "code",
   "execution_count": 265,
   "metadata": {},
   "outputs": [
    {
     "data": {
      "text/plain": [
       "'Masters'"
      ]
     },
     "execution_count": 265,
     "metadata": {},
     "output_type": "execute_result"
    }
   ],
   "source": [
    "testrow = zero_out_feature(xyz, 'edu')\n",
    "testrow_loader = torch.utils.data.DataLoader(testrow, batch_size=1)\n",
    "for x in testrow_loader:\n",
    "    out = encoder1(x)\n",
    "    \n",
    "get_feature(out.detach().numpy()[0], 'edu')\n"
   ]
  },
  {
   "cell_type": "code",
   "execution_count": 266,
   "metadata": {},
   "outputs": [],
   "source": [
    "#its wrong"
   ]
  },
  {
   "cell_type": "code",
   "execution_count": null,
   "metadata": {},
   "outputs": [],
   "source": []
  }
 ],
 "metadata": {
  "kernelspec": {
   "display_name": "Python 3",
   "language": "python",
   "name": "python3"
  },
  "language_info": {
   "codemirror_mode": {
    "name": "ipython",
    "version": 3
   },
   "file_extension": ".py",
   "mimetype": "text/x-python",
   "name": "python",
   "nbconvert_exporter": "python",
   "pygments_lexer": "ipython3",
   "version": "3.6.8"
  }
 },
 "nbformat": 4,
 "nbformat_minor": 2
}
